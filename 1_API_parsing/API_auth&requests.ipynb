{
 "cells": [
  {
   "cell_type": "markdown",
   "metadata": {},
   "source": [
    "## Основы клиент-серверного взаимодействия. Парсинг API"
   ]
  },
  {
   "cell_type": "markdown",
   "metadata": {},
   "source": [
    "1. Посмотреть документацию к API GitHub. Вывести список репозиториев для конкретного пользователя, сохранить JSON-вывод в файле *.json.\n"
   ]
  },
  {
   "cell_type": "code",
   "execution_count": 1,
   "metadata": {},
   "outputs": [],
   "source": [
    "import requests\n",
    "import json"
   ]
  },
  {
   "cell_type": "code",
   "execution_count": 2,
   "metadata": {},
   "outputs": [],
   "source": [
    "username = 'defunkt'\n",
    "main_link = f'https://api.github.com/users/{username}/repos?page=1&per_page=100'\n",
    "repo_list = []"
   ]
  },
  {
   "cell_type": "code",
   "execution_count": 3,
   "metadata": {},
   "outputs": [],
   "source": [
    "# создаем цикл на случай, если у пользователя больше 100 репозиториев\n",
    "another_page = True\n",
    "while another_page:\n",
    "    response = requests.get(main_link)\n",
    "    data = json.loads(response.text)\n",
    "    if response.ok:\n",
    "        for i in data:\n",
    "            repo_list.append(i['name'])\n",
    "    if 'next' in response.links:\n",
    "        main_link = response.links['next']['url']\n",
    "    else:\n",
    "        another_page = False"
   ]
  },
  {
   "cell_type": "code",
   "execution_count": 4,
   "metadata": {},
   "outputs": [
    {
     "name": "stdout",
     "output_type": "stream",
     "text": [
      "Список репозиториев пользователя defunkt:\n",
      "1 ace\n",
      "2 acts_as_textiled\n",
      "3 ambition\n",
      "4 ambitious_activeldap\n",
      "5 ambitious_activerecord\n",
      "6 barefootexamples\n",
      "7 body_matcher\n",
      "8 burn\n",
      "9 cache_fu\n",
      "10 cheat\n",
      "11 cheat.el\n",
      "12 choice\n",
      "13 cijoe\n",
      "14 coffee-mode\n",
      "15 colored\n",
      "16 currency_converter\n",
      "17 d3\n",
      "18 defunkt.github.com\n",
      "19 djangode\n",
      "20 dodgeball.github.com\n",
      "21 dotenv\n",
      "22 dotjs\n",
      "23 electron-wordwrap\n",
      "24 emacs\n",
      "25 email_reply_parser\n",
      "26 evilbot\n",
      "27 exception_logger\n",
      "28 facebox\n",
      "29 faceup\n",
      "30 fixture_scenarios_builder\n",
      "31 ftpd.rb\n",
      "32 gem-man\n",
      "33 getwelltermie\n",
      "34 gibberish\n",
      "35 gist\n",
      "36 gist.el\n",
      "37 git\n",
      "38 github-gem\n",
      "39 github-gmail\n",
      "40 github-markup\n",
      "41 god\n",
      "42 homebrew\n",
      "43 hpricot\n",
      "44 hurl\n",
      "45 igithub\n",
      "46 ike\n",
      "47 ircamp\n",
      "48 iui\n",
      "49 jasper\n",
      "50 jquery-pjax\n",
      "51 jssocket\n",
      "52 lacampfire\n",
      "53 lyndon\n",
      "54 magit\n",
      "55 mapreducerb\n",
      "56 markdown-mode\n",
      "57 Markdown-problems\n",
      "58 matzbot\n",
      "59 metaid\n",
      "60 mofo\n",
      "61 multilanguage_middleman_boilerplate\n",
      "62 mustache-sinatra-example\n",
      "63 mustache-syntax-highlighter\n",
      "64 mustache.js\n",
      "65 Mustache.tmbundle\n",
      "66 mustache_rails3\n",
      "67 my-awesome-framework\n",
      "68 my-fantastic-plugin\n",
      "69 my-fun-repo\n",
      "70 nginx_config_generator\n",
      "71 ooc-markdown\n",
      "72 ozimodo\n",
      "73 pinder\n",
      "74 pru\n",
      "75 pystache\n",
      "76 python-spidermonkey\n",
      "77 quake\n",
      "78 rails\n",
      "79 rails-i18n\n",
      "80 redis-namespace\n",
      "81 repl\n",
      "82 repl-completion\n",
      "83 repo-in-a-repo\n",
      "84 resque\n",
      "85 resque-cli\n",
      "86 resque-lock\n",
      "87 resque-web\n",
      "88 rip\n",
      "89 rocco\n",
      "90 rtimeout\n",
      "91 ruby-ace-editor\n",
      "92 sake\n",
      "93 sake-tasks\n",
      "94 sakerb\n",
      "95 Sample-Jekyll-Site\n",
      "96 sdoc-helpers\n",
      "97 sfruby-meetup-resque\n",
      "98 spyc\n",
      "99 starling\n",
      "100 subtlety\n",
      "101 test_spec_on_rails\n",
      "102 textmate.el\n",
      "103 tomdoc\n",
      "104 unicorn\n",
      "105 whitespace\n",
      "106 Zen\n",
      "107 zippy\n"
     ]
    }
   ],
   "source": [
    "# красивый вывод\n",
    "print(f'Список репозиториев пользователя {username}:')\n",
    "for i in range(len(repo_list)):\n",
    "    print(i+1, repo_list[i])"
   ]
  },
  {
   "cell_type": "code",
   "execution_count": 5,
   "metadata": {},
   "outputs": [],
   "source": [
    "# сохранение в json-формат\n",
    "with open(f'{username}_repos.json', 'w') as json_file:\n",
    "    json.dump({'username': username, 'repos': repo_list}, json_file)"
   ]
  },
  {
   "cell_type": "markdown",
   "metadata": {},
   "source": [
    "2. Изучить список открытых API. Найти среди них любое, требующее авторизацию (любого типа). Выполнить запросы к нему, пройдя авторизацию. Ответ сервера записать в файл."
   ]
  },
  {
   "cell_type": "code",
   "execution_count": 6,
   "metadata": {},
   "outputs": [],
   "source": [
    "# получаем данные для авторизации\n",
    "app_id = \"XXXXXXXX\"\n",
    "app_key = \"XXXXXXXXXXXXXXXXXXXXXXXXXXXXXXXX\"\n",
    "\n",
    "headers = {\"app_id\": app_id,\n",
    "           \"app_key\": app_key}"
   ]
  },
  {
   "cell_type": "code",
   "execution_count": 7,
   "metadata": {},
   "outputs": [],
   "source": [
    "# задаем параметры запроса\n",
    "language = 'en-gb'\n",
    "word_id = 'python'\n",
    "fields = 'pronunciations'\n",
    "strictMatch = 'false'\n",
    "\n",
    "main_link = 'https://od-api.oxforddictionaries.com:443/api/v2/entries/' + language + '/' + word_id.lower() + \\\n",
    "            '?fields=' + fields + '&strictMatch=' + strictMatch"
   ]
  },
  {
   "cell_type": "code",
   "execution_count": 8,
   "metadata": {},
   "outputs": [],
   "source": [
    "response = requests.get(main_link, headers=headers)"
   ]
  },
  {
   "cell_type": "code",
   "execution_count": 9,
   "metadata": {},
   "outputs": [
    {
     "name": "stdout",
     "output_type": "stream",
     "text": [
      "{\n",
      "    \"id\": \"python\",\n",
      "    \"metadata\": {\n",
      "        \"operation\": \"retrieve\",\n",
      "        \"provider\": \"Oxford University Press\",\n",
      "        \"schema\": \"RetrieveEntry\"\n",
      "    },\n",
      "    \"results\": [\n",
      "        {\n",
      "            \"id\": \"python\",\n",
      "            \"language\": \"en-gb\",\n",
      "            \"lexicalEntries\": [\n",
      "                {\n",
      "                    \"language\": \"en-gb\",\n",
      "                    \"lexicalCategory\": {\n",
      "                        \"id\": \"noun\",\n",
      "                        \"text\": \"Noun\"\n",
      "                    },\n",
      "                    \"pronunciations\": [\n",
      "                        {\n",
      "                            \"audioFile\": \"http://audio.oxforddictionaries.com/en/mp3/python_gb_1.mp3\",\n",
      "                            \"dialects\": [\n",
      "                                \"British English\"\n",
      "                            ],\n",
      "                            \"phoneticNotation\": \"IPA\",\n",
      "                            \"phoneticSpelling\": \"ˈpʌɪθ(ə)n\"\n",
      "                        }\n",
      "                    ],\n",
      "                    \"text\": \"python\"\n",
      "                }\n",
      "            ],\n",
      "            \"type\": \"headword\",\n",
      "            \"word\": \"python\"\n",
      "        }\n",
      "    ],\n",
      "    \"word\": \"python\"\n",
      "}\n"
     ]
    }
   ],
   "source": [
    "print(response.text)"
   ]
  },
  {
   "cell_type": "code",
   "execution_count": 10,
   "metadata": {},
   "outputs": [],
   "source": [
    "data = json.loads(response.text)"
   ]
  },
  {
   "cell_type": "code",
   "execution_count": 11,
   "metadata": {},
   "outputs": [],
   "source": [
    "# сохранение в json-формат\n",
    "with open(f'entry_{word_id}.json', 'w') as json_file:\n",
    "    json.dump({'code': response.status_code, 'text': data}, json_file)"
   ]
  },
  {
   "cell_type": "code",
   "execution_count": 12,
   "metadata": {},
   "outputs": [
    {
     "name": "stdout",
     "output_type": "stream",
     "text": [
      "Word \"python\": noun, pronounced as [ˈpʌɪθ(ə)n]\n"
     ]
    }
   ],
   "source": [
    "# пример красивого вывода\n",
    "print(f'Word \"{word_id}\": {data[\"results\"][0][\"lexicalEntries\"][0][\"lexicalCategory\"][\"id\"]}, '\n",
    "      f'pronounced as [{data[\"results\"][0][\"lexicalEntries\"][0][\"pronunciations\"][0][\"phoneticSpelling\"]}]')"
   ]
  },
  {
   "cell_type": "markdown",
   "metadata": {},
   "source": [
    "3. Использование VK API"
   ]
  },
  {
   "cell_type": "code",
   "execution_count": 13,
   "metadata": {},
   "outputs": [],
   "source": [
    "# получаем token\n",
    "access_token = 'XXXXXXXXXXXXXXXXXXXXXXXXXXXXXXXXXXXXXXXXXXXXXXXXXXXXXXXXXXXXXXXXXXXXXXXX'\n",
    "api_id = 'XXXXXXX'"
   ]
  },
  {
   "cell_type": "code",
   "execution_count": 14,
   "metadata": {},
   "outputs": [],
   "source": [
    "# используем метод database.getCities - получить основные города по стране\n",
    "country_id = 1\n",
    "cities = []\n",
    "data = {}\n",
    "\n",
    "get_cities = requests.get(\n",
    "    f'https://api.vk.com/method/database.getCities?q=&country_id={country_id}&v=5.52&access_token={access_token}')\n",
    "\n",
    "if get_cities.ok:\n",
    "    data = json.loads(get_cities.text)\n",
    "    for i in data['response']['items']:\n",
    "        cities.append(i['title'])\n",
    "else:\n",
    "    print('Token has expired')"
   ]
  },
  {
   "cell_type": "code",
   "execution_count": 15,
   "metadata": {},
   "outputs": [
    {
     "name": "stdout",
     "output_type": "stream",
     "text": [
      "Список основных городов:\n",
      "1 Москва\n",
      "2 Санкт-Петербург\n",
      "3 Волгоград\n",
      "4 Владивосток\n",
      "5 Воронеж\n",
      "6 Екатеринбург\n",
      "7 Казань\n",
      "8 Калининград\n",
      "9 Краснодар\n",
      "10 Красноярск\n",
      "11 Нижний Новгород\n",
      "12 Новосибирск\n",
      "13 Омск\n",
      "14 Пермь\n",
      "15 Ростов-на-Дону\n",
      "16 Самара\n",
      "17 Уфа\n",
      "18 Хабаровск\n",
      "19 Челябинск\n",
      "20 Севастополь\n",
      "21 Симферополь\n"
     ]
    }
   ],
   "source": [
    "# красивый вывод\n",
    "print('Список основных городов:')\n",
    "for i in range(len(cities)):\n",
    "    print(i+1, cities[i])"
   ]
  },
  {
   "cell_type": "code",
   "execution_count": 16,
   "metadata": {},
   "outputs": [],
   "source": [
    "# сохранение в json-формат\n",
    "with open(f'cities_country_id_{country_id}.json', 'w') as json_file:\n",
    "    json.dump({'cities': cities}, json_file)"
   ]
  }
 ],
 "metadata": {
  "kernelspec": {
   "display_name": "Python 3",
   "language": "python",
   "name": "python3"
  },
  "language_info": {
   "codemirror_mode": {
    "name": "ipython",
    "version": 3
   },
   "file_extension": ".py",
   "mimetype": "text/x-python",
   "name": "python",
   "nbconvert_exporter": "python",
   "pygments_lexer": "ipython3",
   "version": "3.8.1"
  }
 },
 "nbformat": 4,
 "nbformat_minor": 4
}
